{
  "nbformat": 4,
  "nbformat_minor": 0,
  "metadata": {
    "colab": {
      "provenance": [],
      "collapsed_sections": [],
      "authorship_tag": "ABX9TyO2qBOUP0VuWzm+gOQzDCqd",
      "include_colab_link": true
    },
    "kernelspec": {
      "name": "python3",
      "display_name": "Python 3"
    },
    "language_info": {
      "name": "python"
    }
  },
  "cells": [
    {
      "cell_type": "markdown",
      "metadata": {
        "id": "view-in-github",
        "colab_type": "text"
      },
      "source": [
        "<a href=\"https://colab.research.google.com/github/YanBD/title_h1_excel_extraction/blob/Scrapping-website-with-clickable-links/multilink_scrapper.ipynb\" target=\"_parent\"><img src=\"https://colab.research.google.com/assets/colab-badge.svg\" alt=\"Open In Colab\"/></a>"
      ]
    },
    {
      "cell_type": "code",
      "execution_count": null,
      "metadata": {
        "id": "HGSAgyw5eY9F"
      },
      "outputs": [],
      "source": [
        "# !pip install selenium\n",
        "# !pip install chromedriver-py\n",
        "# !sudo apt install chromium-chromedriver\n",
        "# !pip install undetected-chromedriver\n",
        "# !apt -get update\n",
        "# !pip install pyvirtualdisplay\n",
        "# !apt install -y xvfb\n",
        "\n",
        "# !zip -j /content/chromedriver_linux64.zip /usr/bin/chromedriver\n",
        "# #replace python3.7 with your own version of python in case it's not the same\n",
        "# patcher_src = \"/usr/local/lib/python3.7/dist-packages/undetected_chromedriver/patcher.py\"\n",
        "# with open(patcher_src, \"r\") as f:\n",
        "#     contents = f.read()\n",
        "#     contents = contents.replace(\"return urlretrieve(u)[0]\",\\\n",
        "#                      \"return urlretrieve('file:///content/chromedriver_linux64.zip',\"\\\n",
        "#                      \"filename='/tmp/chromedriver_linux64.zip')[0]\")\n",
        "# with open(patcher_src, \"w\") as f:\n",
        "#     f.write(contents)\n",
        "\n",
        "from selenium import webdriver\n",
        "from selenium.webdriver import Keys\n",
        "from selenium.webdriver.common.by import By\n",
        "from selenium.webdriver.common.action_chains import ActionChains\n",
        "from selenium.webdriver.chrome.service import Service\n",
        "import undetected_chromedriver.v2 as uc\n",
        "from pyvirtualdisplay import Display\n",
        "\n",
        "\n",
        "#edit model for the data you need to the class below based on information you want.\n",
        "class Exhibitor:\n",
        "    def __init__(self, name, url):\n",
        "        self.name = name\n",
        "        self.url = url\n",
        "\n",
        "     #json function on class gives your object created readability.   \n",
        "    def json(self):\n",
        "        return{\n",
        "        'name': self.name,\n",
        "        'url': self.url\n",
        "        }\n",
        "\n",
        "display = Display(visible=0, size=(800, 600))\n",
        "display.start()\n",
        "\n",
        "options = uc.ChromeOptions()\n",
        "options.add_argument(\"--no-sandbox\")\n",
        "driver = uc.Chrome(options=options)\n",
        "\n",
        "# enter in website you want to scrap\n",
        "website = 'https://s23.a2zinc.net/clients/lrp/hrtech2022/Public/Exhibitors.aspx?&CatID=&SubCatID=&CountryID=223'\n",
        "           '&HallID=&PavID=&SubExpoID=&keyword=&StateCodeID=AL,AZ,CA,CO,CT,DE,DC,FL,GA,ID,IL,IN,IA,KS,MD,MA,MI,MN,MO,'\n",
        "           'MT,NE,NH,NJ,NY,NC,OH,OK,OR,PA,SC,TN,TX,UT,VA,WA&SubExpoCatIDs=&CompanyCustomIDs='\n",
        "\n",
        "driver.get(website)\n",
        "driver.implicitly_wait(5)\n",
        "\n",
        "# change value to the element you wish to extract from originial site.\n",
        "exhibitor_list = driver.find_elements(By.CLASS_NAME, value='exhibitorName')\n",
        "\n",
        "for element in exhibitor_list:\n",
        "    exhin = Exhibitor(name=element.text, url='')\n",
        "    ActionChains(driver).key_down(Keys.CONTROL).perform()\n",
        "    driver.implicitly_wait(2)\n",
        "    element.send_keys(Keys.ENTER)\n",
        "    driver.switch_to.window(driver.window_handles[1])\n",
        "    driver.implicitly_wait(1)\n",
        "    # change value to the element you wish to extract from href site site.\n",
        "    url = driver.find_elements(By.ID, value='BoothContactUrl')\n",
        "    for i in url:\n",
        "        exhin.url = i.text\n",
        "    print(exhin.json())\n",
        "    driver.close()\n",
        "    driver.switch_to.window(driver.window_handles[0])\n",
        "\n",
        "driver.quit()"
      ]
    }
  ]
}